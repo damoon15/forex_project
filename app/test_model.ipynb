{
 "cells": [
  {
   "cell_type": "code",
   "execution_count": 6,
   "metadata": {
    "collapsed": true
   },
   "outputs": [],
   "source": [
    "import pickle\n",
    "with open ('./model_sarima.pkl', 'rb') as file:\n",
    "    model = pickle.load(file)"
   ]
  },
  {
   "cell_type": "code",
   "execution_count": 7,
   "outputs": [
    {
     "data": {
      "text/plain": "<class 'statsmodels.iolib.summary.Summary'>\n\"\"\"\n                                      SARIMAX Results                                      \n===========================================================================================\nDep. Variable:                               Close   No. Observations:                  212\nModel:             SARIMAX(0, 1, 0)x(1, 1, [1], 7)   Log Likelihood                1642.773\nDate:                             Tue, 22 Feb 2022   AIC                          -3279.545\nTime:                                     16:23:51   BIC                          -3269.591\nSample:                                 04-22-2021   HQIC                         -3275.518\n                                      - 02-11-2022                                         \nCovariance Type:                               opg                                         \n==============================================================================\n                 coef    std err          z      P>|z|      [0.025      0.975]\n------------------------------------------------------------------------------\nar.S.L7       -0.0504   2.13e-19  -2.36e+17      0.000      -0.050      -0.050\nma.S.L7       -0.9718   2.58e-18  -3.77e+17      0.000      -0.972      -0.972\nsigma2       4.69e-09   5.24e-10      8.946      0.000    3.66e-09    5.72e-09\n===================================================================================\nLjung-Box (L1) (Q):                   0.01   Jarque-Bera (JB):                 0.21\nProb(Q):                              0.93   Prob(JB):                         0.90\nHeteroskedasticity (H):               1.97   Skew:                             0.02\nProb(H) (two-sided):                  0.01   Kurtosis:                         2.85\n===================================================================================\n\nWarnings:\n[1] Covariance matrix calculated using the outer product of gradients (complex-step).\n[2] Covariance matrix is singular or near-singular, with condition number  4e+34. Standard errors may be unstable.\n\"\"\"",
      "text/html": "<table class=\"simpletable\">\n<caption>SARIMAX Results</caption>\n<tr>\n  <th>Dep. Variable:</th>                <td>Close</td>              <th>  No. Observations:  </th>    <td>212</td>   \n</tr>\n<tr>\n  <th>Model:</th>           <td>SARIMAX(0, 1, 0)x(1, 1, [1], 7)</td> <th>  Log Likelihood     </th> <td>1642.773</td> \n</tr>\n<tr>\n  <th>Date:</th>                   <td>Tue, 22 Feb 2022</td>         <th>  AIC                </th> <td>-3279.545</td>\n</tr>\n<tr>\n  <th>Time:</th>                       <td>16:23:51</td>             <th>  BIC                </th> <td>-3269.591</td>\n</tr>\n<tr>\n  <th>Sample:</th>                    <td>04-22-2021</td>            <th>  HQIC               </th> <td>-3275.518</td>\n</tr>\n<tr>\n  <th></th>                          <td>- 02-11-2022</td>           <th>                     </th>     <td> </td>    \n</tr>\n<tr>\n  <th>Covariance Type:</th>               <td>opg</td>               <th>                     </th>     <td> </td>    \n</tr>\n</table>\n<table class=\"simpletable\">\n<tr>\n     <td></td>        <th>coef</th>     <th>std err</th>      <th>z</th>      <th>P>|z|</th>  <th>[0.025</th>    <th>0.975]</th>  \n</tr>\n<tr>\n  <th>ar.S.L7</th> <td>   -0.0504</td> <td> 2.13e-19</td> <td>-2.36e+17</td> <td> 0.000</td> <td>   -0.050</td> <td>   -0.050</td>\n</tr>\n<tr>\n  <th>ma.S.L7</th> <td>   -0.9718</td> <td> 2.58e-18</td> <td>-3.77e+17</td> <td> 0.000</td> <td>   -0.972</td> <td>   -0.972</td>\n</tr>\n<tr>\n  <th>sigma2</th>  <td>  4.69e-09</td> <td> 5.24e-10</td> <td>    8.946</td> <td> 0.000</td> <td> 3.66e-09</td> <td> 5.72e-09</td>\n</tr>\n</table>\n<table class=\"simpletable\">\n<tr>\n  <th>Ljung-Box (L1) (Q):</th>     <td>0.01</td> <th>  Jarque-Bera (JB):  </th> <td>0.21</td>\n</tr>\n<tr>\n  <th>Prob(Q):</th>                <td>0.93</td> <th>  Prob(JB):          </th> <td>0.90</td>\n</tr>\n<tr>\n  <th>Heteroskedasticity (H):</th> <td>1.97</td> <th>  Skew:              </th> <td>0.02</td>\n</tr>\n<tr>\n  <th>Prob(H) (two-sided):</th>    <td>0.01</td> <th>  Kurtosis:          </th> <td>2.85</td>\n</tr>\n</table><br/><br/>Warnings:<br/>[1] Covariance matrix calculated using the outer product of gradients (complex-step).<br/>[2] Covariance matrix is singular or near-singular, with condition number  4e+34. Standard errors may be unstable."
     },
     "execution_count": 7,
     "metadata": {},
     "output_type": "execute_result"
    }
   ],
   "source": [
    "model.summary()"
   ],
   "metadata": {
    "collapsed": false,
    "pycharm": {
     "name": "#%%\n"
    }
   }
  },
  {
   "cell_type": "code",
   "execution_count": 5,
   "outputs": [
    {
     "ename": "TypeError",
     "evalue": "'SARIMAX' object is not callable",
     "output_type": "error",
     "traceback": [
      "\u001B[0;31m---------------------------------------------------------------------------\u001B[0m",
      "\u001B[0;31mTypeError\u001B[0m                                 Traceback (most recent call last)",
      "\u001B[0;32m/tmp/ipykernel_90552/246842210.py\u001B[0m in \u001B[0;36m<module>\u001B[0;34m\u001B[0m\n\u001B[0;32m----> 1\u001B[0;31m \u001B[0mmodel\u001B[0m\u001B[0;34m(\u001B[0m\u001B[0;34m)\u001B[0m\u001B[0;34m\u001B[0m\u001B[0;34m\u001B[0m\u001B[0m\n\u001B[0m",
      "\u001B[0;31mTypeError\u001B[0m: 'SARIMAX' object is not callable"
     ]
    }
   ],
   "source": [
    "(model"
   ],
   "metadata": {
    "collapsed": false,
    "pycharm": {
     "name": "#%%\n"
    }
   }
  },
  {
   "cell_type": "code",
   "execution_count": null,
   "outputs": [],
   "source": [],
   "metadata": {
    "collapsed": false,
    "pycharm": {
     "name": "#%%\n"
    }
   }
  }
 ],
 "metadata": {
  "kernelspec": {
   "display_name": "Python 3",
   "language": "python",
   "name": "python3"
  },
  "language_info": {
   "codemirror_mode": {
    "name": "ipython",
    "version": 2
   },
   "file_extension": ".py",
   "mimetype": "text/x-python",
   "name": "python",
   "nbconvert_exporter": "python",
   "pygments_lexer": "ipython2",
   "version": "2.7.6"
  }
 },
 "nbformat": 4,
 "nbformat_minor": 0
}